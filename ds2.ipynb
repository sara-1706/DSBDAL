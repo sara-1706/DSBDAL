{
 "cells": [
  {
   "cell_type": "code",
   "execution_count": 3,
   "metadata": {
    "id": "9Lwl9IdEkeqJ"
   },
   "outputs": [],
   "source": [
    "import pandas as pd\n",
    "import numpy as np\n",
    "import matplotlib.pyplot as plt"
   ]
  },
  {
   "cell_type": "code",
   "execution_count": 4,
   "metadata": {
    "id": "LIqtPJSDkllR"
   },
   "outputs": [],
   "source": [
    "data = {\n",
    "    'Student_id' :[ 1,2,3,4,5,6,7,8,9,10],\n",
    "    'math_score' :[-78,65,np.nan,90, 120, 35, 76, 90, 12, 35],\n",
    "    'science_score' :[ 67, 42, 37, 98, np.nan, 87, 56, 78, 90, 100],\n",
    "    'English_Score': [np.nan, 80, 75, 88, 60, 65, 85, 90, 95, 40],\n",
    "    'Attendance_Rate': [0.95, 0.9, 0.8, 0.85, np.nan, -0.7, 0.88, 0.92, 1.2, 0.6]\n",
    "\n",
    "\n",
    "}"
   ]
  },
  {
   "cell_type": "code",
   "execution_count": 7,
   "metadata": {
    "id": "UTcvqcVCllEA"
   },
   "outputs": [],
   "source": [
    "df=pd.DataFrame(data)"
   ]
  },
  {
   "cell_type": "code",
   "execution_count": 9,
   "metadata": {
    "colab": {
     "base_uri": "https://localhost:8080/",
     "height": 300
    },
    "id": "hMs_bjg3ltpI",
    "outputId": "b81edeb1-b2fb-4b35-ce2b-26f256b8369d"
   },
   "outputs": [
    {
     "data": {
      "text/html": [
       "<div>\n",
       "<style scoped>\n",
       "    .dataframe tbody tr th:only-of-type {\n",
       "        vertical-align: middle;\n",
       "    }\n",
       "\n",
       "    .dataframe tbody tr th {\n",
       "        vertical-align: top;\n",
       "    }\n",
       "\n",
       "    .dataframe thead th {\n",
       "        text-align: right;\n",
       "    }\n",
       "</style>\n",
       "<table border=\"1\" class=\"dataframe\">\n",
       "  <thead>\n",
       "    <tr style=\"text-align: right;\">\n",
       "      <th></th>\n",
       "      <th>Student_id</th>\n",
       "      <th>math_score</th>\n",
       "      <th>science_score</th>\n",
       "      <th>English_Score</th>\n",
       "      <th>Attendance_Rate</th>\n",
       "    </tr>\n",
       "  </thead>\n",
       "  <tbody>\n",
       "    <tr>\n",
       "      <th>count</th>\n",
       "      <td>10.00000</td>\n",
       "      <td>9.000000</td>\n",
       "      <td>9.000000</td>\n",
       "      <td>9.000000</td>\n",
       "      <td>9.000000</td>\n",
       "    </tr>\n",
       "    <tr>\n",
       "      <th>mean</th>\n",
       "      <td>5.50000</td>\n",
       "      <td>49.444444</td>\n",
       "      <td>72.777778</td>\n",
       "      <td>75.333333</td>\n",
       "      <td>0.711111</td>\n",
       "    </tr>\n",
       "    <tr>\n",
       "      <th>std</th>\n",
       "      <td>3.02765</td>\n",
       "      <td>58.391162</td>\n",
       "      <td>23.573172</td>\n",
       "      <td>17.564168</td>\n",
       "      <td>0.551667</td>\n",
       "    </tr>\n",
       "    <tr>\n",
       "      <th>min</th>\n",
       "      <td>1.00000</td>\n",
       "      <td>-78.000000</td>\n",
       "      <td>37.000000</td>\n",
       "      <td>40.000000</td>\n",
       "      <td>-0.700000</td>\n",
       "    </tr>\n",
       "    <tr>\n",
       "      <th>25%</th>\n",
       "      <td>3.25000</td>\n",
       "      <td>35.000000</td>\n",
       "      <td>56.000000</td>\n",
       "      <td>65.000000</td>\n",
       "      <td>0.800000</td>\n",
       "    </tr>\n",
       "    <tr>\n",
       "      <th>50%</th>\n",
       "      <td>5.50000</td>\n",
       "      <td>65.000000</td>\n",
       "      <td>78.000000</td>\n",
       "      <td>80.000000</td>\n",
       "      <td>0.880000</td>\n",
       "    </tr>\n",
       "    <tr>\n",
       "      <th>75%</th>\n",
       "      <td>7.75000</td>\n",
       "      <td>90.000000</td>\n",
       "      <td>90.000000</td>\n",
       "      <td>88.000000</td>\n",
       "      <td>0.920000</td>\n",
       "    </tr>\n",
       "    <tr>\n",
       "      <th>max</th>\n",
       "      <td>10.00000</td>\n",
       "      <td>120.000000</td>\n",
       "      <td>100.000000</td>\n",
       "      <td>95.000000</td>\n",
       "      <td>1.200000</td>\n",
       "    </tr>\n",
       "  </tbody>\n",
       "</table>\n",
       "</div>"
      ],
      "text/plain": [
       "       Student_id  math_score  science_score  English_Score  Attendance_Rate\n",
       "count    10.00000    9.000000       9.000000       9.000000         9.000000\n",
       "mean      5.50000   49.444444      72.777778      75.333333         0.711111\n",
       "std       3.02765   58.391162      23.573172      17.564168         0.551667\n",
       "min       1.00000  -78.000000      37.000000      40.000000        -0.700000\n",
       "25%       3.25000   35.000000      56.000000      65.000000         0.800000\n",
       "50%       5.50000   65.000000      78.000000      80.000000         0.880000\n",
       "75%       7.75000   90.000000      90.000000      88.000000         0.920000\n",
       "max      10.00000  120.000000     100.000000      95.000000         1.200000"
      ]
     },
     "execution_count": 9,
     "metadata": {},
     "output_type": "execute_result"
    }
   ],
   "source": [
    "df.describe()"
   ]
  },
  {
   "cell_type": "code",
   "execution_count": 11,
   "metadata": {
    "colab": {
     "base_uri": "https://localhost:8080/",
     "height": 206
    },
    "id": "lhSm6IJIlvP_",
    "outputId": "e2efdc1d-9051-466a-f34e-c80bd8c993cc"
   },
   "outputs": [
    {
     "data": {
      "text/html": [
       "<div>\n",
       "<style scoped>\n",
       "    .dataframe tbody tr th:only-of-type {\n",
       "        vertical-align: middle;\n",
       "    }\n",
       "\n",
       "    .dataframe tbody tr th {\n",
       "        vertical-align: top;\n",
       "    }\n",
       "\n",
       "    .dataframe thead th {\n",
       "        text-align: right;\n",
       "    }\n",
       "</style>\n",
       "<table border=\"1\" class=\"dataframe\">\n",
       "  <thead>\n",
       "    <tr style=\"text-align: right;\">\n",
       "      <th></th>\n",
       "      <th>Student_id</th>\n",
       "      <th>math_score</th>\n",
       "      <th>science_score</th>\n",
       "      <th>English_Score</th>\n",
       "      <th>Attendance_Rate</th>\n",
       "    </tr>\n",
       "  </thead>\n",
       "  <tbody>\n",
       "    <tr>\n",
       "      <th>0</th>\n",
       "      <td>1</td>\n",
       "      <td>-78.0</td>\n",
       "      <td>67.0</td>\n",
       "      <td>NaN</td>\n",
       "      <td>0.95</td>\n",
       "    </tr>\n",
       "    <tr>\n",
       "      <th>1</th>\n",
       "      <td>2</td>\n",
       "      <td>65.0</td>\n",
       "      <td>42.0</td>\n",
       "      <td>80.0</td>\n",
       "      <td>0.90</td>\n",
       "    </tr>\n",
       "    <tr>\n",
       "      <th>2</th>\n",
       "      <td>3</td>\n",
       "      <td>NaN</td>\n",
       "      <td>37.0</td>\n",
       "      <td>75.0</td>\n",
       "      <td>0.80</td>\n",
       "    </tr>\n",
       "    <tr>\n",
       "      <th>3</th>\n",
       "      <td>4</td>\n",
       "      <td>90.0</td>\n",
       "      <td>98.0</td>\n",
       "      <td>88.0</td>\n",
       "      <td>0.85</td>\n",
       "    </tr>\n",
       "    <tr>\n",
       "      <th>4</th>\n",
       "      <td>5</td>\n",
       "      <td>120.0</td>\n",
       "      <td>NaN</td>\n",
       "      <td>60.0</td>\n",
       "      <td>NaN</td>\n",
       "    </tr>\n",
       "  </tbody>\n",
       "</table>\n",
       "</div>"
      ],
      "text/plain": [
       "   Student_id  math_score  science_score  English_Score  Attendance_Rate\n",
       "0           1       -78.0           67.0            NaN             0.95\n",
       "1           2        65.0           42.0           80.0             0.90\n",
       "2           3         NaN           37.0           75.0             0.80\n",
       "3           4        90.0           98.0           88.0             0.85\n",
       "4           5       120.0            NaN           60.0              NaN"
      ]
     },
     "execution_count": 11,
     "metadata": {},
     "output_type": "execute_result"
    }
   ],
   "source": [
    "df.head()"
   ]
  },
  {
   "cell_type": "code",
   "execution_count": 13,
   "metadata": {
    "colab": {
     "base_uri": "https://localhost:8080/"
    },
    "id": "OclPQdGMlymz",
    "outputId": "9aea8b64-71ba-412f-f15c-65b1b028686b"
   },
   "outputs": [
    {
     "name": "stdout",
     "output_type": "stream",
     "text": [
      "   Student_id  math_score  science_score  English_Score  Attendance_Rate\n",
      "0           1       -78.0           67.0            NaN             0.95\n",
      "1           2        65.0           42.0           80.0             0.90\n",
      "2           3         NaN           37.0           75.0             0.80\n",
      "3           4        90.0           98.0           88.0             0.85\n",
      "4           5       120.0            NaN           60.0              NaN\n",
      "5           6        35.0           87.0           65.0            -0.70\n",
      "6           7        76.0           56.0           85.0             0.88\n",
      "7           8        90.0           78.0           90.0             0.92\n",
      "8           9        12.0           90.0           95.0             1.20\n",
      "9          10        35.0          100.0           40.0             0.60\n"
     ]
    }
   ],
   "source": [
    "print(df)"
   ]
  },
  {
   "cell_type": "markdown",
   "metadata": {
    "id": "hY8sJfXkmVmR"
   },
   "source": [
    "missing **values**"
   ]
  },
  {
   "cell_type": "code",
   "execution_count": 16,
   "metadata": {
    "colab": {
     "base_uri": "https://localhost:8080/",
     "height": 241
    },
    "id": "Qa9RLnGomImd",
    "outputId": "13f00e52-a820-44b0-a402-ad8211650f45"
   },
   "outputs": [
    {
     "data": {
      "text/plain": [
       "Student_id         0\n",
       "math_score         1\n",
       "science_score      1\n",
       "English_Score      1\n",
       "Attendance_Rate    1\n",
       "dtype: int64"
      ]
     },
     "execution_count": 16,
     "metadata": {},
     "output_type": "execute_result"
    }
   ],
   "source": [
    "df.isnull().sum()"
   ]
  },
  {
   "cell_type": "code",
   "execution_count": null,
   "metadata": {
    "id": "UrDlw___otaY"
   },
   "outputs": [],
   "source": []
  },
  {
   "cell_type": "markdown",
   "metadata": {
    "id": "drYqsw5qmhIP"
   },
   "source": [
    "handling missing values and inconsistencies"
   ]
  },
  {
   "cell_type": "code",
   "execution_count": 20,
   "metadata": {
    "colab": {
     "base_uri": "https://localhost:8080/"
    },
    "id": "3mUpC_7KmcuC",
    "outputId": "a64a935f-fd7f-4125-dd35-5008771ba60c"
   },
   "outputs": [
    {
     "name": "stderr",
     "output_type": "stream",
     "text": [
      "C:\\Users\\SARA\\AppData\\Local\\Temp\\ipykernel_14228\\1778194172.py:1: FutureWarning: A value is trying to be set on a copy of a DataFrame or Series through chained assignment using an inplace method.\n",
      "The behavior will change in pandas 3.0. This inplace method will never work because the intermediate object on which we are setting values always behaves as a copy.\n",
      "\n",
      "For example, when doing 'df[col].method(value, inplace=True)', try using 'df.method({col: value}, inplace=True)' or df[col] = df[col].method(value) instead, to perform the operation inplace on the original object.\n",
      "\n",
      "\n",
      "  df['math_score'].fillna(df['math_score'].mean(), inplace=True)\n"
     ]
    }
   ],
   "source": [
    "df['math_score'].fillna(df['math_score'].mean(), inplace=True)"
   ]
  },
  {
   "cell_type": "code",
   "execution_count": 22,
   "metadata": {
    "colab": {
     "base_uri": "https://localhost:8080/"
    },
    "id": "nFvlXyz6m1tf",
    "outputId": "929effed-884f-4cd9-cdff-e356b94c7d2f"
   },
   "outputs": [
    {
     "name": "stderr",
     "output_type": "stream",
     "text": [
      "C:\\Users\\SARA\\AppData\\Local\\Temp\\ipykernel_14228\\2617506876.py:1: FutureWarning: A value is trying to be set on a copy of a DataFrame or Series through chained assignment using an inplace method.\n",
      "The behavior will change in pandas 3.0. This inplace method will never work because the intermediate object on which we are setting values always behaves as a copy.\n",
      "\n",
      "For example, when doing 'df[col].method(value, inplace=True)', try using 'df.method({col: value}, inplace=True)' or df[col] = df[col].method(value) instead, to perform the operation inplace on the original object.\n",
      "\n",
      "\n",
      "  df['science_score'].fillna(df['science_score'].mean(), inplace= True)\n"
     ]
    }
   ],
   "source": [
    "df['science_score'].fillna(df['science_score'].mean(), inplace= True)"
   ]
  },
  {
   "cell_type": "code",
   "execution_count": 24,
   "metadata": {
    "colab": {
     "base_uri": "https://localhost:8080/"
    },
    "id": "JNDKETt2neaa",
    "outputId": "cdc586b7-1234-4676-d8cb-8fd3f30c8521"
   },
   "outputs": [
    {
     "name": "stderr",
     "output_type": "stream",
     "text": [
      "C:\\Users\\SARA\\AppData\\Local\\Temp\\ipykernel_14228\\692469081.py:1: FutureWarning: A value is trying to be set on a copy of a DataFrame or Series through chained assignment using an inplace method.\n",
      "The behavior will change in pandas 3.0. This inplace method will never work because the intermediate object on which we are setting values always behaves as a copy.\n",
      "\n",
      "For example, when doing 'df[col].method(value, inplace=True)', try using 'df.method({col: value}, inplace=True)' or df[col] = df[col].method(value) instead, to perform the operation inplace on the original object.\n",
      "\n",
      "\n",
      "  df['English_Score'].fillna(df['English_Score'].mean() ,inplace = True)\n"
     ]
    }
   ],
   "source": [
    "df['English_Score'].fillna(df['English_Score'].mean() ,inplace = True)"
   ]
  },
  {
   "cell_type": "code",
   "execution_count": 26,
   "metadata": {
    "id": "6KSEwq73nspT"
   },
   "outputs": [],
   "source": [
    "df['Attendance_Rate'] = df['Attendance_Rate'].apply(lambda x: 1 if x > 1 else x)"
   ]
  },
  {
   "cell_type": "code",
   "execution_count": 28,
   "metadata": {
    "colab": {
     "base_uri": "https://localhost:8080/"
    },
    "id": "84rI7CQdoYka",
    "outputId": "464e4383-caf2-4602-ec71-a76e4c0b5add"
   },
   "outputs": [
    {
     "name": "stdout",
     "output_type": "stream",
     "text": [
      "   Student_id  math_score  science_score  English_Score  Attendance_Rate\n",
      "0           1  -78.000000      67.000000      75.333333             0.95\n",
      "1           2   65.000000      42.000000      80.000000             0.90\n",
      "2           3   49.444444      37.000000      75.000000             0.80\n",
      "3           4   90.000000      98.000000      88.000000             0.85\n",
      "4           5  120.000000      72.777778      60.000000              NaN\n",
      "5           6   35.000000      87.000000      65.000000            -0.70\n",
      "6           7   76.000000      56.000000      85.000000             0.88\n",
      "7           8   90.000000      78.000000      90.000000             0.92\n",
      "8           9   12.000000      90.000000      95.000000             1.00\n",
      "9          10   35.000000     100.000000      40.000000             0.60\n"
     ]
    }
   ],
   "source": [
    "print(df)"
   ]
  },
  {
   "cell_type": "code",
   "execution_count": 30,
   "metadata": {
    "colab": {
     "base_uri": "https://localhost:8080/"
    },
    "id": "8sotQ9f7oftX",
    "outputId": "91bfdfe4-e770-4779-85e4-58885ab2496f"
   },
   "outputs": [
    {
     "name": "stdout",
     "output_type": "stream",
     "text": [
      " \\ After removing outliers in  math_score\n",
      "   Student_id  math_score  science_score  English_Score  Attendance_Rate\n",
      "1           2   65.000000      42.000000           80.0             0.90\n",
      "2           3   49.444444      37.000000           75.0             0.80\n",
      "3           4   90.000000      98.000000           88.0             0.85\n",
      "4           5  120.000000      72.777778           60.0              NaN\n",
      "5           6   35.000000      87.000000           65.0            -0.70\n",
      "6           7   76.000000      56.000000           85.0             0.88\n",
      "7           8   90.000000      78.000000           90.0             0.92\n",
      "8           9   12.000000      90.000000           95.0             1.00\n",
      "9          10   35.000000     100.000000           40.0             0.60\n",
      " \\ After removing outliers in  science_score\n",
      "   Student_id  math_score  science_score  English_Score  Attendance_Rate\n",
      "0           1  -78.000000      67.000000      75.333333             0.95\n",
      "1           2   65.000000      42.000000      80.000000             0.90\n",
      "2           3   49.444444      37.000000      75.000000             0.80\n",
      "3           4   90.000000      98.000000      88.000000             0.85\n",
      "4           5  120.000000      72.777778      60.000000              NaN\n",
      "5           6   35.000000      87.000000      65.000000            -0.70\n",
      "6           7   76.000000      56.000000      85.000000             0.88\n",
      "7           8   90.000000      78.000000      90.000000             0.92\n",
      "8           9   12.000000      90.000000      95.000000             1.00\n",
      "9          10   35.000000     100.000000      40.000000             0.60\n",
      " \\ After removing outliers in  English_Score\n",
      "   Student_id  math_score  science_score  English_Score  Attendance_Rate\n",
      "0           1  -78.000000      67.000000      75.333333             0.95\n",
      "1           2   65.000000      42.000000      80.000000             0.90\n",
      "2           3   49.444444      37.000000      75.000000             0.80\n",
      "3           4   90.000000      98.000000      88.000000             0.85\n",
      "4           5  120.000000      72.777778      60.000000              NaN\n",
      "5           6   35.000000      87.000000      65.000000            -0.70\n",
      "6           7   76.000000      56.000000      85.000000             0.88\n",
      "7           8   90.000000      78.000000      90.000000             0.92\n",
      "8           9   12.000000      90.000000      95.000000             1.00\n",
      "9          10   35.000000     100.000000      40.000000             0.60\n",
      " \\ After removing outliers in  Attendance_Rate\n",
      "   Student_id  math_score  science_score  English_Score  Attendance_Rate\n",
      "0           1  -78.000000           67.0      75.333333             0.95\n",
      "1           2   65.000000           42.0      80.000000             0.90\n",
      "2           3   49.444444           37.0      75.000000             0.80\n",
      "3           4   90.000000           98.0      88.000000             0.85\n",
      "6           7   76.000000           56.0      85.000000             0.88\n",
      "7           8   90.000000           78.0      90.000000             0.92\n",
      "8           9   12.000000           90.0      95.000000             1.00\n"
     ]
    },
    {
     "name": "stderr",
     "output_type": "stream",
     "text": [
      "<>:8: SyntaxWarning: invalid escape sequence '\\ '\n",
      "<>:8: SyntaxWarning: invalid escape sequence '\\ '\n",
      "C:\\Users\\SARA\\AppData\\Local\\Temp\\ipykernel_14228\\1955004491.py:8: SyntaxWarning: invalid escape sequence '\\ '\n",
      "  print(\" \\ After removing outliers in \",col)\n"
     ]
    }
   ],
   "source": [
    "for col in ['math_score','science_score','English_Score', 'Attendance_Rate']:\n",
    "  Q1 = df[col].quantile(0.25)\n",
    "  Q3 = df[col].quantile(0.75)\n",
    "  IQR = Q3 - Q1\n",
    "\n",
    "  lower_bound, upper_bound = Q1 - 1.5 * IQR , Q3 + 1.5 * IQR\n",
    "  outlier = df[(df[col] >= lower_bound) & (df[col] <= upper_bound)]\n",
    "  print(\" \\ After removing outliers in \",col)\n",
    "  print(outlier)"
   ]
  },
  {
   "cell_type": "code",
   "execution_count": null,
   "metadata": {
    "colab": {
     "base_uri": "https://localhost:8080/"
    },
    "id": "Wpr-i_aMqY97",
    "outputId": "b66e7e11-a002-4725-b53d-6f697c733001"
   },
   "outputs": [
    {
     "data": {
      "text/plain": [
       "np.float64(-1.1830044235512214)"
      ]
     },
     "execution_count": 55,
     "metadata": {},
     "output_type": "execute_result"
    }
   ],
   "source": [
    "df['math_score'].skew()"
   ]
  },
  {
   "cell_type": "code",
   "execution_count": null,
   "metadata": {
    "id": "WPyh3K7JrkOH"
   },
   "outputs": [],
   "source": [
    "df['math_score_log']= np.log(df['math_score'])"
   ]
  },
  {
   "cell_type": "code",
   "execution_count": null,
   "metadata": {
    "colab": {
     "base_uri": "https://localhost:8080/"
    },
    "id": "FRcPJ99sr0Qd",
    "outputId": "8591f71b-177f-4bd9-a550-b9ef945a984e"
   },
   "outputs": [
    {
     "data": {
      "text/plain": [
       "np.float64(-2.1630087731980425)"
      ]
     },
     "execution_count": 59,
     "metadata": {},
     "output_type": "execute_result"
    }
   ],
   "source": [
    "df['math_score_log'].skew()"
   ]
  },
  {
   "cell_type": "code",
   "execution_count": null,
   "metadata": {
    "colab": {
     "base_uri": "https://localhost:8080/"
    },
    "id": "qWHu9gNZsOxN",
    "outputId": "cdd68c55-dc87-4c15-b434-58f227443926"
   },
   "outputs": [
    {
     "name": "stdout",
     "output_type": "stream",
     "text": [
      "   Student_id  math_score  science_score  English_Score  Attendance_Rate  \\\n",
      "1           2    4.174387           42.0           80.0             0.90   \n",
      "2           3    3.900850           37.0           75.0             0.80   \n",
      "3           4    4.499810           98.0           88.0             0.85   \n",
      "6           7    4.330733           56.0           85.0             0.88   \n",
      "7           8    4.499810           78.0           90.0             0.92   \n",
      "8           9    2.484907           90.0           95.0             1.00   \n",
      "\n",
      "   math_score_log  \n",
      "1        1.428968  \n",
      "2        1.361194  \n",
      "3        1.504035  \n",
      "6        1.465737  \n",
      "7        1.504035  \n",
      "8        0.910235  \n"
     ]
    }
   ],
   "source": [
    "print(df)"
   ]
  },
  {
   "cell_type": "code",
   "execution_count": null,
   "metadata": {
    "colab": {
     "base_uri": "https://localhost:8080/",
     "height": 472
    },
    "id": "MAEEvI5qsSdL",
    "outputId": "52abc472-873c-4b4b-c794-da5208ed3ffd"
   },
   "outputs": [
    {
     "data": {
      "image/png": "[encoded data removed]",
      "text/plain": [
       "<Figure size 640x480 with 1 Axes>"
      ]
     },
     "metadata": {},
     "output_type": "display_data"
    }
   ],
   "source": [
    "import seaborn as sns\n",
    "plt.subplot(1,2,2)\n",
    "sns.histplot(df['math_score_log'], kde=True)\n",
    "plt.title('Log Transformed Math Score')\n",
    "\n",
    "plt.show()"
   ]
  },
  {
   "cell_type": "code",
   "execution_count": null,
   "metadata": {
    "id": "OG0mCQTsscG_"
   },
   "outputs": [],
   "source": []
  }
 ],
 "metadata": {
  "colab": {
   "provenance": []
  },
  "kernelspec": {
   "display_name": "Python [conda env:base] *",
   "language": "python",
   "name": "conda-base-py"
  },
  "language_info": {
   "codemirror_mode": {
    "name": "ipython",
    "version": 3
   },
   "file_extension": ".py",
   "mimetype": "text/x-python",
   "name": "python",
   "nbconvert_exporter": "python",
   "pygments_lexer": "ipython3",
   "version": "3.12.7"
  }
 },
 "nbformat": 4,
 "nbformat_minor": 4
}
